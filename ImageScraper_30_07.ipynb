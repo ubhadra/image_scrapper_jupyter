{
 "cells": [
  {
   "cell_type": "code",
   "execution_count": 1,
   "id": "622c2576-5995-4ad1-860e-28e84b8fa92e",
   "metadata": {},
   "outputs": [],
   "source": [
    "import requests\n",
    "import logging\n",
    "import os\n",
    "from bs4 import BeautifulSoup\n",
    "from urllib.request import urlopen"
   ]
  },
  {
   "cell_type": "code",
   "execution_count": 2,
   "id": "04cab998-5680-4537-b7c0-1d7f185ae0a9",
   "metadata": {},
   "outputs": [
    {
     "data": {
      "text/plain": [
       "'C:\\\\Users\\\\UPAHAR B'"
      ]
     },
     "execution_count": 2,
     "metadata": {},
     "output_type": "execute_result"
    }
   ],
   "source": [
    "os. getcwd()"
   ]
  },
  {
   "cell_type": "code",
   "execution_count": 3,
   "id": "7ef66756-d78b-44df-adec-e5c09ee9c53f",
   "metadata": {},
   "outputs": [],
   "source": [
    "save_dir=\"images/\"\n",
    "\n",
    "if not os.path.exists(save_dir):\n",
    "    os.makedirs(save_dir)"
   ]
  },
  {
   "cell_type": "code",
   "execution_count": 4,
   "id": "06c67873-4358-409b-a535-307e4fb2d4c7",
   "metadata": {},
   "outputs": [],
   "source": [
    "query =\"Virat Kohli\"\n",
    "\n",
    "\n",
    "#url=https://www.google.com/search?q=query&tbm=isch&ved=2ahUKEwjYvsaHi7uAAxW0pukKHZQSBzgQ2-cCegQIABAA&oq=chandrayan3&gs_lcp=CgNpbWcQAzIJCAAQGBCABBAKMgkIABAYEIAEEAoyCQgAEBgQgAQQCjIJCAAQGBCABBAKMgkIABAYEIAEEAoyCQgAEBgQgAQQCjIJCAAQGBCABBAKMgkIABAYEIAEEAoyCQgAEBgQgAQQCjIJCAAQGBCABBAKOgQIIxAnOgoIABCKBRCxAxBDOggIABCABBCxAzoHCAAQigUQQzoFCAAQgAQ6DQgAEIoFELEDEIMBEEM6CAgAELEDEIMBOgQIABADOgsIABCABBCxAxCDAVDxCFjGGmDpHGgAcAB4AIABeYgBxAiSAQM4LjSYAQCgAQGqAQtnd3Mtd2l6LWltZ8ABAQ&sclient=img&ei=NcjIZJjQG7TNpgeUpZzAAw&bih=714&biw=1536&hl=en#imgrc=cDrVINYNcr4AqM"
   ]
  },
  {
   "cell_type": "code",
   "execution_count": 5,
   "id": "0e79ed72-f341-4a87-9fc2-f289d7f2272a",
   "metadata": {},
   "outputs": [],
   "source": [
    "response = requests.get(f\"https://www.google.com/search?q={query}&tbm=isch&ved=2ahUKEwjYvsaHi7uAAxW0pukKHZQSBzgQ2-cCegQIABAA&oq=chandrayan3&gs_lcp=CgNpbWcQAzIJCAAQGBCABBAKMgkIABAYEIAEEAoyCQgAEBgQgAQQCjIJCAAQGBCABBAKMgkIABAYEIAEEAoyCQgAEBgQgAQQCjIJCAAQGBCABBAKMgkIABAYEIAEEAoyCQgAEBgQgAQQCjIJCAAQGBCABBAKOgQIIxAnOgoIABCKBRCxAxBDOggIABCABBCxAzoHCAAQigUQQzoFCAAQgAQ6DQgAEIoFELEDEIMBEEM6CAgAELEDEIMBOgQIABADOgsIABCABBCxAxCDAVDxCFjGGmDpHGgAcAB4AIABeYgBxAiSAQM4LjSYAQCgAQGqAQtnd3Mtd2l6LWltZ8ABAQ&sclient=img&ei=NcjIZJjQG7TNpgeUpZzAAw&bih=714&biw=1536&hl=en#imgrc=cDrVINYNcr4AqM\")"
   ]
  },
  {
   "cell_type": "code",
   "execution_count": 6,
   "id": "877a9641-8ced-4940-b505-e1b8fe459c21",
   "metadata": {},
   "outputs": [
    {
     "data": {
      "text/plain": [
       "<Response [200]>"
      ]
     },
     "execution_count": 6,
     "metadata": {},
     "output_type": "execute_result"
    }
   ],
   "source": [
    "response"
   ]
  },
  {
   "cell_type": "code",
   "execution_count": 7,
   "id": "e303e120-f80b-495c-baa9-9366c41a48b5",
   "metadata": {},
   "outputs": [],
   "source": [
    "soup = BeautifulSoup(response.content,\"html.parser\")"
   ]
  },
  {
   "cell_type": "code",
   "execution_count": 8,
   "id": "ac10475f-f53a-4c52-8de7-bda933a3f902",
   "metadata": {},
   "outputs": [],
   "source": [
    "#soup"
   ]
  },
  {
   "cell_type": "code",
   "execution_count": 9,
   "id": "1b17a154-a22b-4c3c-982c-6a5569c5230e",
   "metadata": {},
   "outputs": [],
   "source": [
    "image_tags=soup.find_all(\"img\")"
   ]
  },
  {
   "cell_type": "code",
   "execution_count": 10,
   "id": "0fccbd05-77fd-4ec5-b396-a8d3fb103c35",
   "metadata": {},
   "outputs": [
    {
     "data": {
      "text/plain": [
       "[<img alt=\"Google\" class=\"kgJEQe\" src=\"/images/branding/searchlogo/1x/googlelogo_desk_heirloom_color_150x55dp.gif\"/>,\n",
       " <img alt=\"\" class=\"yWs4tf\" src=\"https://encrypted-tbn0.gstatic.com/images?q=tbn:ANd9GcSApOD8cC7Jh33c0VqbcFkcmx0og9wr1DYsD50a8Tp3p-0I33M_SuuLXA0Kizk&amp;s\"/>,\n",
       " <img alt=\"\" class=\"yWs4tf\" src=\"https://encrypted-tbn0.gstatic.com/images?q=tbn:ANd9GcSmzYdEF9oMdX6H6jLNcdYh3NrvlaE3me4tmoVPia5N6rA3BeS16EzD0TgswQ4&amp;s\"/>,\n",
       " <img alt=\"\" class=\"yWs4tf\" src=\"https://encrypted-tbn0.gstatic.com/images?q=tbn:ANd9GcS9C58BNcMmQwtKOOVPr2QxPHvO0WyNIRF5XejM_bsxPzCH1IyGGEB2t2o2tlg&amp;s\"/>,\n",
       " <img alt=\"\" class=\"yWs4tf\" src=\"https://encrypted-tbn0.gstatic.com/images?q=tbn:ANd9GcSK5yCaJ2Z89H3mjG2pVjY9N4R5oiPNQPgSk0yYX4Wiv3mMSccD2ttNoKKUgg&amp;s\"/>,\n",
       " <img alt=\"\" class=\"yWs4tf\" src=\"https://encrypted-tbn0.gstatic.com/images?q=tbn:ANd9GcTKoFpIxozXSgMeua4Y7vQbGvoqQ-iRZrsNYjWdrF8bLRkjY84qCkNhnT-n6wg&amp;s\"/>,\n",
       " <img alt=\"\" class=\"yWs4tf\" src=\"https://encrypted-tbn0.gstatic.com/images?q=tbn:ANd9GcRec8fL8OuoYTKa4PYUISRU9hyGvU93SriCzmW0KdVDRHfSTS4bjneJvyI52D0&amp;s\"/>,\n",
       " <img alt=\"\" class=\"yWs4tf\" src=\"https://encrypted-tbn0.gstatic.com/images?q=tbn:ANd9GcRZJo33H9n0_WI5mo6qPjFFxMNOnC6gKTatQcX4aVQVlSZDmBsXBdfl3W__mw&amp;s\"/>,\n",
       " <img alt=\"\" class=\"yWs4tf\" src=\"https://encrypted-tbn0.gstatic.com/images?q=tbn:ANd9GcR3ZFK0A4umNXAAYD4om18k3x2BgBYqPuIywILpy7ckkNFY6U2shFp4v0czbQ&amp;s\"/>,\n",
       " <img alt=\"\" class=\"yWs4tf\" src=\"https://encrypted-tbn0.gstatic.com/images?q=tbn:ANd9GcQSOM4VLsL-VoN3IoSPpdWlOVjOdZZxsGazUwqVMLj1HHwkP-LOo3jnuxQVenc&amp;s\"/>,\n",
       " <img alt=\"\" class=\"yWs4tf\" src=\"https://encrypted-tbn0.gstatic.com/images?q=tbn:ANd9GcTQisRy9KKPpaR789gUkso2hXdR_nmiUys7sAz5OBHssfxQcCNVOkVb8LmRZQ&amp;s\"/>,\n",
       " <img alt=\"\" class=\"yWs4tf\" src=\"https://encrypted-tbn0.gstatic.com/images?q=tbn:ANd9GcRyORR6g-FRNLSsZLxHhLsjx6xjtP4sbgIKTK-T_EGpjrhODo7joT6mfR0A1ek&amp;s\"/>,\n",
       " <img alt=\"\" class=\"yWs4tf\" src=\"https://encrypted-tbn0.gstatic.com/images?q=tbn:ANd9GcS_0zjgzoqeGx4D_kjYWU6TnsS9XpT_nz-c2dLfeZ1_0bksodxtMXjWIfp1JQ&amp;s\"/>,\n",
       " <img alt=\"\" class=\"yWs4tf\" src=\"https://encrypted-tbn0.gstatic.com/images?q=tbn:ANd9GcRavBFoeE17PmGh4bBkz8wOQHrlEWEH0QAk3fOPxGY7ntUSmpuA2uDP6LEfZA&amp;s\"/>,\n",
       " <img alt=\"\" class=\"yWs4tf\" src=\"https://encrypted-tbn0.gstatic.com/images?q=tbn:ANd9GcQXhRozPeN_ofFzgMvQcHZvcplv3EpOrLtmrSnBG88kwoJo8RFn0Ev3aLykTYA&amp;s\"/>,\n",
       " <img alt=\"\" class=\"yWs4tf\" src=\"https://encrypted-tbn0.gstatic.com/images?q=tbn:ANd9GcT31MU-l5iezqCLOPE2jeiBB0geQsn8njIF0T290gdxybDBKMJOC5V1jM9QAg&amp;s\"/>,\n",
       " <img alt=\"\" class=\"yWs4tf\" src=\"https://encrypted-tbn0.gstatic.com/images?q=tbn:ANd9GcR31yH7qlDziUlJXlHkXWecPZWAX-UXw5HvmxOTVjhraNS4IrYozrED5TWnDQ&amp;s\"/>,\n",
       " <img alt=\"\" class=\"yWs4tf\" src=\"https://encrypted-tbn0.gstatic.com/images?q=tbn:ANd9GcRLqGxMbCeVkZIDV3mQfmlpSxuBcW4YTlZBp78_utfaZ7ACU-1GI0fyT3cQVA&amp;s\"/>,\n",
       " <img alt=\"\" class=\"yWs4tf\" src=\"https://encrypted-tbn0.gstatic.com/images?q=tbn:ANd9GcSp3kQOyVVmAnA2QMEE6FqFu6ulP9AJGt_bdQVPzJ7xb8LLDv5yZKFvw0Y-30Y&amp;s\"/>,\n",
       " <img alt=\"\" class=\"yWs4tf\" src=\"https://encrypted-tbn0.gstatic.com/images?q=tbn:ANd9GcTkrojjyuI5kp8RN_v7E0E4FQqGTx7IbWyojit76J1Mg5QwXNp4uo9HxHqiiL0&amp;s\"/>,\n",
       " <img alt=\"\" class=\"yWs4tf\" src=\"https://encrypted-tbn0.gstatic.com/images?q=tbn:ANd9GcSl1P3XWKsdwOTFeASDXdko-vqddOI5OnQ2n0X2dI78DmXXeA67mzrPWhERJw&amp;s\"/>]"
      ]
     },
     "execution_count": 10,
     "metadata": {},
     "output_type": "execute_result"
    }
   ],
   "source": [
    "image_tags"
   ]
  },
  {
   "cell_type": "code",
   "execution_count": 11,
   "id": "e35d5045-f2b2-48c0-88b7-e10b27699cfc",
   "metadata": {},
   "outputs": [],
   "source": [
    "del image_tags[0]"
   ]
  },
  {
   "cell_type": "code",
   "execution_count": 12,
   "id": "54ea18b8-5acc-4381-99d2-7ad26ec03c0f",
   "metadata": {},
   "outputs": [
    {
     "data": {
      "text/plain": [
       "[<img alt=\"\" class=\"yWs4tf\" src=\"https://encrypted-tbn0.gstatic.com/images?q=tbn:ANd9GcSApOD8cC7Jh33c0VqbcFkcmx0og9wr1DYsD50a8Tp3p-0I33M_SuuLXA0Kizk&amp;s\"/>,\n",
       " <img alt=\"\" class=\"yWs4tf\" src=\"https://encrypted-tbn0.gstatic.com/images?q=tbn:ANd9GcSmzYdEF9oMdX6H6jLNcdYh3NrvlaE3me4tmoVPia5N6rA3BeS16EzD0TgswQ4&amp;s\"/>,\n",
       " <img alt=\"\" class=\"yWs4tf\" src=\"https://encrypted-tbn0.gstatic.com/images?q=tbn:ANd9GcS9C58BNcMmQwtKOOVPr2QxPHvO0WyNIRF5XejM_bsxPzCH1IyGGEB2t2o2tlg&amp;s\"/>,\n",
       " <img alt=\"\" class=\"yWs4tf\" src=\"https://encrypted-tbn0.gstatic.com/images?q=tbn:ANd9GcSK5yCaJ2Z89H3mjG2pVjY9N4R5oiPNQPgSk0yYX4Wiv3mMSccD2ttNoKKUgg&amp;s\"/>,\n",
       " <img alt=\"\" class=\"yWs4tf\" src=\"https://encrypted-tbn0.gstatic.com/images?q=tbn:ANd9GcTKoFpIxozXSgMeua4Y7vQbGvoqQ-iRZrsNYjWdrF8bLRkjY84qCkNhnT-n6wg&amp;s\"/>,\n",
       " <img alt=\"\" class=\"yWs4tf\" src=\"https://encrypted-tbn0.gstatic.com/images?q=tbn:ANd9GcRec8fL8OuoYTKa4PYUISRU9hyGvU93SriCzmW0KdVDRHfSTS4bjneJvyI52D0&amp;s\"/>,\n",
       " <img alt=\"\" class=\"yWs4tf\" src=\"https://encrypted-tbn0.gstatic.com/images?q=tbn:ANd9GcRZJo33H9n0_WI5mo6qPjFFxMNOnC6gKTatQcX4aVQVlSZDmBsXBdfl3W__mw&amp;s\"/>,\n",
       " <img alt=\"\" class=\"yWs4tf\" src=\"https://encrypted-tbn0.gstatic.com/images?q=tbn:ANd9GcR3ZFK0A4umNXAAYD4om18k3x2BgBYqPuIywILpy7ckkNFY6U2shFp4v0czbQ&amp;s\"/>,\n",
       " <img alt=\"\" class=\"yWs4tf\" src=\"https://encrypted-tbn0.gstatic.com/images?q=tbn:ANd9GcQSOM4VLsL-VoN3IoSPpdWlOVjOdZZxsGazUwqVMLj1HHwkP-LOo3jnuxQVenc&amp;s\"/>,\n",
       " <img alt=\"\" class=\"yWs4tf\" src=\"https://encrypted-tbn0.gstatic.com/images?q=tbn:ANd9GcTQisRy9KKPpaR789gUkso2hXdR_nmiUys7sAz5OBHssfxQcCNVOkVb8LmRZQ&amp;s\"/>,\n",
       " <img alt=\"\" class=\"yWs4tf\" src=\"https://encrypted-tbn0.gstatic.com/images?q=tbn:ANd9GcRyORR6g-FRNLSsZLxHhLsjx6xjtP4sbgIKTK-T_EGpjrhODo7joT6mfR0A1ek&amp;s\"/>,\n",
       " <img alt=\"\" class=\"yWs4tf\" src=\"https://encrypted-tbn0.gstatic.com/images?q=tbn:ANd9GcS_0zjgzoqeGx4D_kjYWU6TnsS9XpT_nz-c2dLfeZ1_0bksodxtMXjWIfp1JQ&amp;s\"/>,\n",
       " <img alt=\"\" class=\"yWs4tf\" src=\"https://encrypted-tbn0.gstatic.com/images?q=tbn:ANd9GcRavBFoeE17PmGh4bBkz8wOQHrlEWEH0QAk3fOPxGY7ntUSmpuA2uDP6LEfZA&amp;s\"/>,\n",
       " <img alt=\"\" class=\"yWs4tf\" src=\"https://encrypted-tbn0.gstatic.com/images?q=tbn:ANd9GcQXhRozPeN_ofFzgMvQcHZvcplv3EpOrLtmrSnBG88kwoJo8RFn0Ev3aLykTYA&amp;s\"/>,\n",
       " <img alt=\"\" class=\"yWs4tf\" src=\"https://encrypted-tbn0.gstatic.com/images?q=tbn:ANd9GcT31MU-l5iezqCLOPE2jeiBB0geQsn8njIF0T290gdxybDBKMJOC5V1jM9QAg&amp;s\"/>,\n",
       " <img alt=\"\" class=\"yWs4tf\" src=\"https://encrypted-tbn0.gstatic.com/images?q=tbn:ANd9GcR31yH7qlDziUlJXlHkXWecPZWAX-UXw5HvmxOTVjhraNS4IrYozrED5TWnDQ&amp;s\"/>,\n",
       " <img alt=\"\" class=\"yWs4tf\" src=\"https://encrypted-tbn0.gstatic.com/images?q=tbn:ANd9GcRLqGxMbCeVkZIDV3mQfmlpSxuBcW4YTlZBp78_utfaZ7ACU-1GI0fyT3cQVA&amp;s\"/>,\n",
       " <img alt=\"\" class=\"yWs4tf\" src=\"https://encrypted-tbn0.gstatic.com/images?q=tbn:ANd9GcSp3kQOyVVmAnA2QMEE6FqFu6ulP9AJGt_bdQVPzJ7xb8LLDv5yZKFvw0Y-30Y&amp;s\"/>,\n",
       " <img alt=\"\" class=\"yWs4tf\" src=\"https://encrypted-tbn0.gstatic.com/images?q=tbn:ANd9GcTkrojjyuI5kp8RN_v7E0E4FQqGTx7IbWyojit76J1Mg5QwXNp4uo9HxHqiiL0&amp;s\"/>,\n",
       " <img alt=\"\" class=\"yWs4tf\" src=\"https://encrypted-tbn0.gstatic.com/images?q=tbn:ANd9GcSl1P3XWKsdwOTFeASDXdko-vqddOI5OnQ2n0X2dI78DmXXeA67mzrPWhERJw&amp;s\"/>]"
      ]
     },
     "execution_count": 12,
     "metadata": {},
     "output_type": "execute_result"
    }
   ],
   "source": [
    "image_tags"
   ]
  },
  {
   "cell_type": "code",
   "execution_count": 13,
   "id": "de2f2beb-5f74-419c-96de-687bb56e9011",
   "metadata": {},
   "outputs": [
    {
     "data": {
      "text/plain": [
       "20"
      ]
     },
     "execution_count": 13,
     "metadata": {},
     "output_type": "execute_result"
    }
   ],
   "source": [
    "len(image_tags)"
   ]
  },
  {
   "cell_type": "code",
   "execution_count": 14,
   "id": "0ba3397f-a572-4035-932e-d0d79a863fc8",
   "metadata": {},
   "outputs": [],
   "source": [
    "for i in image_tags:\n",
    "    image_url = (i['src'])\n",
    "    image_data=requests.get(image_url).content\n",
    "    with open(os.path.join(save_dir, f\"{query}_{image_tags.index(i)}.jpg\"),\"wb\") as f:\n",
    "        f.write(image_data)"
   ]
  },
  {
   "cell_type": "code",
   "execution_count": null,
   "id": "8e663468-3a4b-4bf7-93f9-147a2547463d",
   "metadata": {},
   "outputs": [],
   "source": []
  }
 ],
 "metadata": {
  "kernelspec": {
   "display_name": "Python 3 (ipykernel)",
   "language": "python",
   "name": "python3"
  },
  "language_info": {
   "codemirror_mode": {
    "name": "ipython",
    "version": 3
   },
   "file_extension": ".py",
   "mimetype": "text/x-python",
   "name": "python",
   "nbconvert_exporter": "python",
   "pygments_lexer": "ipython3",
   "version": "3.8.17"
  }
 },
 "nbformat": 4,
 "nbformat_minor": 5
}
